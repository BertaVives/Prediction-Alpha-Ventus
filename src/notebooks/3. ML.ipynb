{
 "cells": [
  {
   "cell_type": "code",
   "execution_count": 10,
   "metadata": {},
   "outputs": [],
   "source": [
    "import pandas as pd\n",
    "import warnings\n",
    "warnings.filterwarnings('ignore')\n",
    "from sklearn.model_selection import train_test_split\n",
    "from sklearn.linear_model import LinearRegression"
   ]
  },
  {
   "cell_type": "code",
   "execution_count": 2,
   "metadata": {},
   "outputs": [
    {
     "data": {
      "text/html": [
       "<div>\n",
       "<style scoped>\n",
       "    .dataframe tbody tr th:only-of-type {\n",
       "        vertical-align: middle;\n",
       "    }\n",
       "\n",
       "    .dataframe tbody tr th {\n",
       "        vertical-align: top;\n",
       "    }\n",
       "\n",
       "    .dataframe thead th {\n",
       "        text-align: right;\n",
       "    }\n",
       "</style>\n",
       "<table border=\"1\" class=\"dataframe\">\n",
       "  <thead>\n",
       "    <tr style=\"text-align: right;\">\n",
       "      <th></th>\n",
       "      <th>Time</th>\n",
       "      <th>WindSpeed</th>\n",
       "      <th>ActivePower</th>\n",
       "      <th>WindDirection</th>\n",
       "      <th>YawAngle</th>\n",
       "    </tr>\n",
       "  </thead>\n",
       "  <tbody>\n",
       "    <tr>\n",
       "      <th>0</th>\n",
       "      <td>2017-01-01 00:00:00</td>\n",
       "      <td>13.525400</td>\n",
       "      <td>5229.550000</td>\n",
       "      <td>5.440936</td>\n",
       "      <td>116.834000</td>\n",
       "    </tr>\n",
       "    <tr>\n",
       "      <th>1</th>\n",
       "      <td>2017-01-01 00:10:00</td>\n",
       "      <td>13.477100</td>\n",
       "      <td>5235.970000</td>\n",
       "      <td>5.438927</td>\n",
       "      <td>116.283000</td>\n",
       "    </tr>\n",
       "    <tr>\n",
       "      <th>2</th>\n",
       "      <td>2017-01-01 00:20:00</td>\n",
       "      <td>13.223300</td>\n",
       "      <td>5234.350000</td>\n",
       "      <td>5.434732</td>\n",
       "      <td>115.552000</td>\n",
       "    </tr>\n",
       "    <tr>\n",
       "      <th>3</th>\n",
       "      <td>2017-01-01 00:30:00</td>\n",
       "      <td>8.800249</td>\n",
       "      <td>5232.010000</td>\n",
       "      <td>5.433392</td>\n",
       "      <td>118.312000</td>\n",
       "    </tr>\n",
       "    <tr>\n",
       "      <th>4</th>\n",
       "      <td>2017-01-01 00:40:00</td>\n",
       "      <td>13.055400</td>\n",
       "      <td>5228.310000</td>\n",
       "      <td>5.428837</td>\n",
       "      <td>114.987000</td>\n",
       "    </tr>\n",
       "    <tr>\n",
       "      <th>...</th>\n",
       "      <td>...</td>\n",
       "      <td>...</td>\n",
       "      <td>...</td>\n",
       "      <td>...</td>\n",
       "      <td>...</td>\n",
       "    </tr>\n",
       "    <tr>\n",
       "      <th>413665</th>\n",
       "      <td>2020-12-31 23:10:00</td>\n",
       "      <td>2.680484</td>\n",
       "      <td>-25.521072</td>\n",
       "      <td>5.851633</td>\n",
       "      <td>347.655832</td>\n",
       "    </tr>\n",
       "    <tr>\n",
       "      <th>413666</th>\n",
       "      <td>2020-12-31 23:20:00</td>\n",
       "      <td>2.324961</td>\n",
       "      <td>-24.290187</td>\n",
       "      <td>5.817540</td>\n",
       "      <td>343.985084</td>\n",
       "    </tr>\n",
       "    <tr>\n",
       "      <th>413667</th>\n",
       "      <td>2020-12-31 23:30:00</td>\n",
       "      <td>2.068780</td>\n",
       "      <td>-23.819663</td>\n",
       "      <td>5.778489</td>\n",
       "      <td>328.523030</td>\n",
       "    </tr>\n",
       "    <tr>\n",
       "      <th>413668</th>\n",
       "      <td>2020-12-31 23:40:00</td>\n",
       "      <td>2.178742</td>\n",
       "      <td>-22.054977</td>\n",
       "      <td>5.757239</td>\n",
       "      <td>322.328713</td>\n",
       "    </tr>\n",
       "    <tr>\n",
       "      <th>413669</th>\n",
       "      <td>2020-12-31 23:50:00</td>\n",
       "      <td>2.364429</td>\n",
       "      <td>-24.162919</td>\n",
       "      <td>5.703468</td>\n",
       "      <td>291.022087</td>\n",
       "    </tr>\n",
       "  </tbody>\n",
       "</table>\n",
       "<p>413670 rows × 5 columns</p>\n",
       "</div>"
      ],
      "text/plain": [
       "                       Time  WindSpeed  ActivePower  WindDirection    YawAngle\n",
       "0       2017-01-01 00:00:00  13.525400  5229.550000       5.440936  116.834000\n",
       "1       2017-01-01 00:10:00  13.477100  5235.970000       5.438927  116.283000\n",
       "2       2017-01-01 00:20:00  13.223300  5234.350000       5.434732  115.552000\n",
       "3       2017-01-01 00:30:00   8.800249  5232.010000       5.433392  118.312000\n",
       "4       2017-01-01 00:40:00  13.055400  5228.310000       5.428837  114.987000\n",
       "...                     ...        ...          ...            ...         ...\n",
       "413665  2020-12-31 23:10:00   2.680484   -25.521072       5.851633  347.655832\n",
       "413666  2020-12-31 23:20:00   2.324961   -24.290187       5.817540  343.985084\n",
       "413667  2020-12-31 23:30:00   2.068780   -23.819663       5.778489  328.523030\n",
       "413668  2020-12-31 23:40:00   2.178742   -22.054977       5.757239  322.328713\n",
       "413669  2020-12-31 23:50:00   2.364429   -24.162919       5.703468  291.022087\n",
       "\n",
       "[413670 rows x 5 columns]"
      ]
     },
     "execution_count": 2,
     "metadata": {},
     "output_type": "execute_result"
    }
   ],
   "source": [
    "file = '../data/processed/datos_normalizados.csv'\n",
    "data = pd.read_csv(file, delimiter=',');\n",
    "data"
   ]
  },
  {
   "cell_type": "code",
   "execution_count": 7,
   "metadata": {},
   "outputs": [],
   "source": [
    "X = data[['WindSpeed','WindDirection','YawAngle']]"
   ]
  },
  {
   "cell_type": "code",
   "execution_count": 5,
   "metadata": {},
   "outputs": [],
   "source": [
    "y = data['ActivePower']"
   ]
  },
  {
   "cell_type": "code",
   "execution_count": 9,
   "metadata": {},
   "outputs": [],
   "source": [
    "X_train, X_test, y_train, y_test = train_test_split(X,y,test_size=0.7,random_state=1234)"
   ]
  },
  {
   "cell_type": "code",
   "execution_count": 11,
   "metadata": {},
   "outputs": [],
   "source": [
    "lineal = LinearRegression()"
   ]
  },
  {
   "cell_type": "code",
   "execution_count": 12,
   "metadata": {},
   "outputs": [
    {
     "data": {
      "text/plain": [
       "LinearRegression()"
      ]
     },
     "execution_count": 12,
     "metadata": {},
     "output_type": "execute_result"
    }
   ],
   "source": [
    "lineal.fit(X_train, y_train)"
   ]
  },
  {
   "cell_type": "code",
   "execution_count": 13,
   "metadata": {},
   "outputs": [],
   "source": [
    "pred = lineal.predict(X_test)"
   ]
  },
  {
   "cell_type": "code",
   "execution_count": 25,
   "metadata": {},
   "outputs": [],
   "source": [
    "from sklearn.metrics import max_error\n",
    "from sklearn.metrics import mean_absolute_error\n",
    "from sklearn.metrics import mean_squared_error\n",
    "from sklearn.metrics import mean_absolute_percentage_error\n",
    "from sklearn.metrics import r2_score"
   ]
  },
  {
   "cell_type": "code",
   "execution_count": 24,
   "metadata": {},
   "outputs": [
    {
     "data": {
      "text/plain": [
       "8983.914847955577"
      ]
     },
     "execution_count": 24,
     "metadata": {},
     "output_type": "execute_result"
    }
   ],
   "source": [
    "m = max_error(y_test,pred)\n",
    "m"
   ]
  },
  {
   "cell_type": "code",
   "execution_count": 21,
   "metadata": {},
   "outputs": [
    {
     "data": {
      "text/plain": [
       "939.8291469066963"
      ]
     },
     "execution_count": 21,
     "metadata": {},
     "output_type": "execute_result"
    }
   ],
   "source": [
    "mae = mean_absolute_error(y_test,pred)\n",
    "mae"
   ]
  },
  {
   "cell_type": "code",
   "execution_count": 20,
   "metadata": {},
   "outputs": [
    {
     "data": {
      "text/plain": [
       "2292467.9019398405"
      ]
     },
     "execution_count": 20,
     "metadata": {},
     "output_type": "execute_result"
    }
   ],
   "source": [
    "mse = mean_squared_error(y_test,pred)\n",
    "mse"
   ]
  },
  {
   "cell_type": "code",
   "execution_count": 22,
   "metadata": {},
   "outputs": [
    {
     "data": {
      "text/plain": [
       "3.994809501645039"
      ]
     },
     "execution_count": 22,
     "metadata": {},
     "output_type": "execute_result"
    }
   ],
   "source": [
    "mape = mean_absolute_percentage_error(y_test,pred)\n",
    "mape"
   ]
  },
  {
   "cell_type": "code",
   "execution_count": 26,
   "metadata": {},
   "outputs": [
    {
     "data": {
      "text/plain": [
       "0.4491754400155913"
      ]
     },
     "execution_count": 26,
     "metadata": {},
     "output_type": "execute_result"
    }
   ],
   "source": [
    "r2 = r2_score(y_test,pred)\n",
    "r2"
   ]
  }
 ],
 "metadata": {
  "kernelspec": {
   "display_name": "DataScience",
   "language": "python",
   "name": "python3"
  },
  "language_info": {
   "codemirror_mode": {
    "name": "ipython",
    "version": 3
   },
   "file_extension": ".py",
   "mimetype": "text/x-python",
   "name": "python",
   "nbconvert_exporter": "python",
   "pygments_lexer": "ipython3",
   "version": "3.9.15"
  },
  "orig_nbformat": 4,
  "vscode": {
   "interpreter": {
    "hash": "4b5a2aaf94a20ece0551648939ed853b4738d2f77c0cac11f174cba8f59e450c"
   }
  }
 },
 "nbformat": 4,
 "nbformat_minor": 2
}
